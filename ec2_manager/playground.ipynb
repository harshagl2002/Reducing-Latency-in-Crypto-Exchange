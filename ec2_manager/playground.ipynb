{
 "cells": [
  {
   "cell_type": "code",
   "execution_count": 6,
   "metadata": {},
   "outputs": [],
   "source": [
    "import pandas as pd\n",
    "\n",
    "from ec2manager import EC2Manager"
   ]
  },
  {
   "cell_type": "markdown",
   "metadata": {},
   "source": [
    "# Common Configs"
   ]
  },
  {
   "cell_type": "code",
   "execution_count": 7,
   "metadata": {},
   "outputs": [],
   "source": [
    "# This is the config of your user, should store in your local machine\n",
    "config = pd.read_csv(\"accessKeys.csv\")\n",
    "\n",
    "# Script to intall necessary packages\n",
    "user_data_script = \"\"\"\n",
    "#!/bin/bash\n",
    "sudo yum update -y\n",
    "sudo yum install git -y\n",
    "sudo yum install python3 -y\n",
    "pip install pandas\n",
    "pip install numpy\n",
    "\"\"\"\n",
    "\n",
    "key = config[\"Access key ID\"].iloc[0]\n",
    "secret = config[\"Secret access key\"].iloc[0]\n",
    "instance_type = \"t2.micro\"\n",
    "volume_size = 8"
   ]
  },
  {
   "cell_type": "markdown",
   "metadata": {},
   "source": [
    "# Tokyo Instances"
   ]
  },
  {
   "cell_type": "code",
   "execution_count": 8,
   "metadata": {},
   "outputs": [],
   "source": [
    "region_name = \"ap-northeast-1\"\n",
    "tokyo_image_id = \"ami-0b34d07d4809c87de\"\n",
    "tokyo_key = \"TokyoKey\"\n",
    "security_groups = [\"TokyoSecurityGroup\"]\n",
    "# Key Name denotes the name of the instance\n",
    "tags = [{\"Key\": \"Name\", \"Value\": \"Boto3Demo\"}]\n",
    "tokyo_manager = EC2Manager(key, secret, region_name)"
   ]
  },
  {
   "cell_type": "markdown",
   "metadata": {},
   "source": [
    "## Create an Instance"
   ]
  },
  {
   "cell_type": "code",
   "execution_count": 6,
   "metadata": {},
   "outputs": [],
   "source": [
    "instance_id = tokyo_manager.create_instance(tokyo_image_id, instance_type, tokyo_key, security_groups, user_data_script, volume_size, tags)"
   ]
  },
  {
   "cell_type": "markdown",
   "metadata": {},
   "source": [
    "## Terminate All Instances"
   ]
  },
  {
   "cell_type": "code",
   "execution_count": 9,
   "metadata": {},
   "outputs": [],
   "source": [
    "for instance in tokyo_manager.get_all_instances():\n",
    "    if instance[\"state\"] == \"running\":\n",
    "        tokyo_manager.terminate_instance(instance[\"instance_id\"])"
   ]
  },
  {
   "cell_type": "markdown",
   "metadata": {},
   "source": [
    "# Create U.S. Instances"
   ]
  },
  {
   "cell_type": "code",
   "execution_count": 7,
   "metadata": {},
   "outputs": [],
   "source": [
    "region_name = \"us-east-1\"\n",
    "us_image_id  = \"ami-0d74d0fd7a1288ec2\"\n",
    "us_key = \"InitialDemo\"\n",
    "us_manager = EC2Manager(key, secret, region_name)\n",
    "tags = [{\"Key\": \"Name\", \"Value\": \"USBoto3Demo\"}]\n",
    "security_groups = [\"launch-wizard-1\"]"
   ]
  },
  {
   "cell_type": "code",
   "execution_count": 8,
   "metadata": {},
   "outputs": [],
   "source": [
    "instance_id = us_manager.create_instance(us_image_id, instance_type, us_key, security_groups, user_data_script, volume_size, tags)"
   ]
  },
  {
   "cell_type": "code",
   "execution_count": 12,
   "metadata": {},
   "outputs": [],
   "source": [
    "instance_id = \"i-092ac5c954fc058f3\"\n",
    "us_manager.start_instance(instance_id)"
   ]
  }
 ],
 "metadata": {
  "kernelspec": {
   "display_name": "base",
   "language": "python",
   "name": "python3"
  },
  "language_info": {
   "codemirror_mode": {
    "name": "ipython",
    "version": 3
   },
   "file_extension": ".py",
   "mimetype": "text/x-python",
   "name": "python",
   "nbconvert_exporter": "python",
   "pygments_lexer": "ipython3",
   "version": "3.9.7"
  }
 },
 "nbformat": 4,
 "nbformat_minor": 2
}
