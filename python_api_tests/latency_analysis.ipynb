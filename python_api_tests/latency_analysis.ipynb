{
 "cells": [
  {
   "cell_type": "code",
   "execution_count": 4,
   "metadata": {},
   "outputs": [],
   "source": [
    "import pandas as pd\n",
    "import numpy as np\n",
    "import matplotlib.pyplot as plt\n",
    "import seaborn as sns\n",
    "import scipy.stats as stats"
   ]
  },
  {
   "cell_type": "code",
   "execution_count": 5,
   "metadata": {},
   "outputs": [
    {
     "data": {
      "text/html": [
       "<div>\n",
       "<style scoped>\n",
       "    .dataframe tbody tr th:only-of-type {\n",
       "        vertical-align: middle;\n",
       "    }\n",
       "\n",
       "    .dataframe tbody tr th {\n",
       "        vertical-align: top;\n",
       "    }\n",
       "\n",
       "    .dataframe thead th {\n",
       "        text-align: right;\n",
       "    }\n",
       "</style>\n",
       "<table border=\"1\" class=\"dataframe\">\n",
       "  <thead>\n",
       "    <tr style=\"text-align: right;\">\n",
       "      <th></th>\n",
       "      <th>timestamp</th>\n",
       "      <th>latency</th>\n",
       "      <th>API type</th>\n",
       "    </tr>\n",
       "  </thead>\n",
       "  <tbody>\n",
       "    <tr>\n",
       "      <th>0</th>\n",
       "      <td>1.699199e+09</td>\n",
       "      <td>0.046402</td>\n",
       "      <td>public get</td>\n",
       "    </tr>\n",
       "    <tr>\n",
       "      <th>1</th>\n",
       "      <td>1.699199e+09</td>\n",
       "      <td>0.007812</td>\n",
       "      <td>create_order</td>\n",
       "    </tr>\n",
       "    <tr>\n",
       "      <th>2</th>\n",
       "      <td>1.699199e+09</td>\n",
       "      <td>0.007107</td>\n",
       "      <td>cancel_order</td>\n",
       "    </tr>\n",
       "    <tr>\n",
       "      <th>3</th>\n",
       "      <td>1.699199e+09</td>\n",
       "      <td>0.004275</td>\n",
       "      <td>public get</td>\n",
       "    </tr>\n",
       "    <tr>\n",
       "      <th>4</th>\n",
       "      <td>1.699199e+09</td>\n",
       "      <td>0.007982</td>\n",
       "      <td>create_order</td>\n",
       "    </tr>\n",
       "  </tbody>\n",
       "</table>\n",
       "</div>"
      ],
      "text/plain": [
       "      timestamp   latency      API type\n",
       "0  1.699199e+09  0.046402    public get\n",
       "1  1.699199e+09  0.007812  create_order\n",
       "2  1.699199e+09  0.007107  cancel_order\n",
       "3  1.699199e+09  0.004275    public get\n",
       "4  1.699199e+09  0.007982  create_order"
      ]
     },
     "execution_count": 5,
     "metadata": {},
     "output_type": "execute_result"
    }
   ],
   "source": [
    "AZa = pd.read_csv(\"../Sample-Data/AZa.csv\")\n",
    "AZc = pd.read_csv(\"../Sample-Data/AZc.csv\")\n",
    "AZd = pd.read_csv(\"../Sample-Data/AZd.csv\")\n",
    "AZa.head()"
   ]
  },
  {
   "cell_type": "code",
   "execution_count": 6,
   "metadata": {},
   "outputs": [
    {
     "name": "stdout",
     "output_type": "stream",
     "text": [
      "(85210, 3)\n",
      "(85069, 3)\n",
      "(85063, 3)\n"
     ]
    }
   ],
   "source": [
    "print(AZa.shape)\n",
    "print(AZc.shape)\n",
    "print(AZd.shape)"
   ]
  },
  {
   "cell_type": "code",
   "execution_count": 12,
   "metadata": {},
   "outputs": [],
   "source": [
    "AZa[\"timestamp\"] = pd.to_datetime(AZa[\"timestamp\"], unit='s')"
   ]
  },
  {
   "cell_type": "code",
   "execution_count": 15,
   "metadata": {},
   "outputs": [],
   "source": [
    "AZa[\"hour\"] = AZa[\"timestamp\"].dt.hour"
   ]
  },
  {
   "cell_type": "code",
   "execution_count": 27,
   "metadata": {},
   "outputs": [],
   "source": [
    "def hourly_performance(data, file_name):\n",
    "    # Convert timestamp to datetime and extract hour\n",
    "    data['timestamp'] = pd.to_datetime(data['timestamp'], unit='s')\n",
    "    data['hour'] = data['timestamp'].dt.hour\n",
    "\n",
    "    # Aggregate the latency by API type and hour\n",
    "    hourly_latency = data.groupby(['API type', 'hour'])['latency'].agg(['mean', 'min', \n",
    "                                                                        lambda x: x.quantile(0.90), \n",
    "                                                                        lambda x: x.quantile(0.95)])\n",
    "\n",
    "    # Rename the aggregated columns for clarity\n",
    "    hourly_latency.columns = ['Average Latency', 'Percentile 0 Latency', 'Percentile 90 Latency', 'Percentile 95 Latency']\n",
    "\n",
    "    # Reset index to convert the API type and hour from index to columns\n",
    "    hourly_latency = hourly_latency.reset_index()\n",
    "\n",
    "    hourly_latency.to_csv(f\"{file_name}-results.csv\")"
   ]
  },
  {
   "cell_type": "code",
   "execution_count": 28,
   "metadata": {},
   "outputs": [],
   "source": [
    "hourly_performance(AZa, \"AZa\")"
   ]
  },
  {
   "cell_type": "code",
   "execution_count": 29,
   "metadata": {},
   "outputs": [],
   "source": [
    "hourly_performance(AZc, \"AZc\")"
   ]
  },
  {
   "cell_type": "code",
   "execution_count": 30,
   "metadata": {},
   "outputs": [],
   "source": [
    "hourly_performance(AZd, \"AZd\")"
   ]
  }
 ],
 "metadata": {
  "kernelspec": {
   "display_name": "base",
   "language": "python",
   "name": "python3"
  },
  "language_info": {
   "codemirror_mode": {
    "name": "ipython",
    "version": 3
   },
   "file_extension": ".py",
   "mimetype": "text/x-python",
   "name": "python",
   "nbconvert_exporter": "python",
   "pygments_lexer": "ipython3",
   "version": "3.9.7"
  }
 },
 "nbformat": 4,
 "nbformat_minor": 2
}
